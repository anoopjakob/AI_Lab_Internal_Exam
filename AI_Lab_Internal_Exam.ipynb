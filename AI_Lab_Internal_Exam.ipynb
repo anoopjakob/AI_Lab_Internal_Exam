{
  "nbformat": 4,
  "nbformat_minor": 0,
  "metadata": {
    "colab": {
      "name": "AI_Lab_Internal_Exam.ipynb",
      "provenance": [],
      "collapsed_sections": [],
      "mount_file_id": "1e0lm787EMi2gYigazaZR_21a7P7FhE4c",
      "authorship_tag": "ABX9TyME0ek4Xt8agowcOuloAvZw",
      "include_colab_link": true
    },
    "kernelspec": {
      "name": "python3",
      "display_name": "Python 3"
    }
  },
  "cells": [
    {
      "cell_type": "markdown",
      "metadata": {
        "id": "view-in-github",
        "colab_type": "text"
      },
      "source": [
        "<a href=\"https://colab.research.google.com/github/anoopjakob/AI_Lab_Internal_Exam/blob/main/AI_Lab_Internal_Exam.ipynb\" target=\"_parent\"><img src=\"https://colab.research.google.com/assets/colab-badge.svg\" alt=\"Open In Colab\"/></a>"
      ]
    },
    {
      "cell_type": "markdown",
      "metadata": {
        "id": "lBKBt2k3RDhw"
      },
      "source": [
        "## Question 1\n",
        "Implement the naive Bayes classifier for a sample training data set exam.CSV file without using any library that implements naive Bayes. Compute the accuracy of the classifier, considering few test data sets.\n",
        "\n",
        "Submitted by **Anoop Jacob**"
      ]
    },
    {
      "cell_type": "code",
      "metadata": {
        "id": "4u5L7fX3N1Sm"
      },
      "source": [
        "# All imports here\n",
        "\n",
        "import numpy as np\n",
        "import pandas as pd\n",
        "import matplotlib.pyplot as plt\n",
        "\n",
        "from math import sqrt\n",
        "from math import exp\n",
        "from math import pi\n",
        "\n",
        "\n",
        "%matplotlib inline"
      ],
      "execution_count": 165,
      "outputs": []
    },
    {
      "cell_type": "code",
      "metadata": {
        "colab": {
          "base_uri": "https://localhost:8080/"
        },
        "id": "9kWGuEPjPt79",
        "outputId": "626d4501-1f94-4a39-f350-de9f98333310"
      },
      "source": [
        "# Loading data using pandas\n",
        "\n",
        "columns = ['feature1', 'feature2', 'feature3', 'feature4', 'feature5', \n",
        "           'feature6', 'feature7', 'feature8','label']\n",
        "\n",
        "exam_df = pd.read_csv('/content/drive/MyDrive/AI-ML/Lab_internal_exam/Anoop Jacob - exam.csv', usecols = columns)\n",
        "\n",
        "# checking the shape\n",
        "print(exam_df.shape)\n",
        "\n",
        "# checking for null values\n",
        "print(exam_df.info())"
      ],
      "execution_count": 166,
      "outputs": [
        {
          "output_type": "stream",
          "text": [
            "(768, 9)\n",
            "<class 'pandas.core.frame.DataFrame'>\n",
            "RangeIndex: 768 entries, 0 to 767\n",
            "Data columns (total 9 columns):\n",
            " #   Column    Non-Null Count  Dtype  \n",
            "---  ------    --------------  -----  \n",
            " 0   feature1  768 non-null    int64  \n",
            " 1   feature2  768 non-null    int64  \n",
            " 2   feature3  768 non-null    int64  \n",
            " 3   feature4  768 non-null    int64  \n",
            " 4   feature5  768 non-null    int64  \n",
            " 5   feature6  768 non-null    float64\n",
            " 6   feature7  768 non-null    float64\n",
            " 7   feature8  768 non-null    int64  \n",
            " 8   label     768 non-null    int64  \n",
            "dtypes: float64(2), int64(7)\n",
            "memory usage: 54.1 KB\n",
            "None\n"
          ],
          "name": "stdout"
        }
      ]
    },
    {
      "cell_type": "code",
      "metadata": {
        "id": "xRLnDwRjm9FS"
      },
      "source": [
        "# SPLITTING DATA FOR TRAIN AND TEST\n",
        "\n",
        "split_at_70 = int(len(exam_df)*0.7)\n",
        "\n",
        "train_df = exam_df[:split_at_70]\n",
        "train_dataset = train_df.values.tolist()\n",
        "y_train = train_df.label\n",
        "X_train = train_df.drop('label', axis=1).values.tolist()\n",
        "\n",
        "test_df = exam_df[split_at_70:]\n",
        "y_test = test_df.label\n",
        "X_test = test_df.drop('label', axis=1).values.tolist()"
      ],
      "execution_count": 167,
      "outputs": []
    },
    {
      "cell_type": "code",
      "metadata": {
        "colab": {
          "base_uri": "https://localhost:8080/"
        },
        "id": "xW233CrYqMqx",
        "outputId": "ec2702fa-a9d8-4622-ef39-16af4341523e"
      },
      "source": [
        "len(y_test)\n",
        "len(X_test)"
      ],
      "execution_count": 168,
      "outputs": [
        {
          "output_type": "execute_result",
          "data": {
            "text/plain": [
              "231"
            ]
          },
          "metadata": {
            "tags": []
          },
          "execution_count": 168
        }
      ]
    },
    {
      "cell_type": "code",
      "metadata": {
        "id": "a8xBbdERUnWo"
      },
      "source": [
        "# NAIVE BAYES FUNCTIONS CREATED HERE\n",
        "\n",
        "\n",
        "# Split the dataset by class values, returns a dictionary\n",
        "def separate_by_class(dataset):\n",
        "\tseparated = dict()\n",
        " \n",
        "\tfor i in range(len(dataset)):\n",
        "\t\tvector = dataset[i]\n",
        "\t\tclass_value = vector[-1]\n",
        "\t\tif (class_value not in separated):\n",
        "\t\t\tseparated[class_value] = list()\n",
        "\t\tseparated[class_value].append(vector)\n",
        "\treturn separated\n",
        "\n",
        "# Calculate the mean of a list of numbers\n",
        "def mean(numbers):\n",
        "\treturn np.mean(numbers)\n",
        "\n",
        "# Calculate the standard deviation of a list of numbers\n",
        "def stdev(numbers):\n",
        "\treturn np.std(numbers)\n",
        "\n",
        "# Calculate the mean, stdev and count for each column in a dataset\n",
        "def summarize_dataset(dataset):\n",
        "\tsummaries = [(mean(column), stdev(column), len(column)) for column in zip(*dataset)]\n",
        "\tdel(summaries[-1])\n",
        "\treturn summaries\n",
        "\n",
        "# Split dataset by class then calculate statistics for each row\n",
        "def summarize_by_class(dataset):\n",
        "\tseparated = separate_by_class(dataset)\n",
        "\tsummaries = dict()\n",
        "\tfor class_value, rows in separated.items():\n",
        "\t\tsummaries[class_value] = summarize_dataset(rows)\n",
        "\treturn summaries\n",
        "\n",
        "# Calculate the Gaussian probability distribution function for x\n",
        "def calculate_probability(x, mean, stdev):\n",
        "\texponent = exp(-((x-mean)**2 / (2 * stdev**2 )))\n",
        "\treturn (1 / (sqrt(2 * pi) * stdev)) * exponent\n",
        "\n",
        "# Calculate the probabilities of predicting each class for a given row\n",
        "def calculate_class_probabilities(summaries, row):\n",
        "\ttotal_rows = sum([summaries[label][0][2] for label in summaries])\n",
        "\tprobabilities = dict()\n",
        "\tfor class_value, class_summaries in summaries.items():\n",
        "\t\tprobabilities[class_value] = summaries[class_value][0][2]/float(total_rows)\n",
        "\t\tfor i in range(len(class_summaries)):\n",
        "\t\t\tmean, stdev, _ = class_summaries[i]\n",
        "\t\t\tprobabilities[class_value] *= calculate_probability(row[i], mean, stdev)\n",
        "\treturn probabilities\n",
        "\n",
        "# Predict the class for a given row\n",
        "def predict(summaries, row):\n",
        "\tprobabilities = calculate_class_probabilities(summaries, row)\n",
        "\tbest_label, best_prob = None, -1\n",
        "\tfor class_value, probability in probabilities.items():\n",
        "\t\tif best_label is None or probability > best_prob:\n",
        "\t\t\tbest_prob = probability\n",
        "\t\t\tbest_label = class_value\n",
        "\treturn best_label\n",
        "\n",
        " "
      ],
      "execution_count": 169,
      "outputs": []
    },
    {
      "cell_type": "code",
      "metadata": {
        "id": "KFnoY68_oXdB"
      },
      "source": [
        "# FITTING THE MODEL\n",
        "\n",
        "model = summarize_by_class(train_dataset)"
      ],
      "execution_count": 170,
      "outputs": []
    },
    {
      "cell_type": "code",
      "metadata": {
        "colab": {
          "base_uri": "https://localhost:8080/"
        },
        "id": "I7y4bvqykB00",
        "outputId": "0373a352-5354-40b8-b088-cb8c9a0717b6"
      },
      "source": [
        "# TRAIN ACCURACY\n",
        "\n",
        "y_pred_train = []\n",
        "\n",
        "for row in X_train:\n",
        "  \n",
        "  # here PREDICTION hapepens for each row\n",
        "  predicted = predict(model, row)\n",
        "  y_pred_train.append(predicted)\n",
        "\n",
        "score = np.sum(y_pred_train == y_train)/len(y_pred_train)\n",
        "\n",
        "print(f'Train accuracy is {score*100} for {len(y_pred_train)} samples')"
      ],
      "execution_count": 171,
      "outputs": [
        {
          "output_type": "stream",
          "text": [
            "Train accuracy is 76.72253258845437 for 537 samples\n"
          ],
          "name": "stdout"
        }
      ]
    },
    {
      "cell_type": "code",
      "metadata": {
        "colab": {
          "base_uri": "https://localhost:8080/"
        },
        "id": "cssOi7Hdcr7p",
        "outputId": "e5d821d0-60d6-436f-af13-ac690413a634"
      },
      "source": [
        "# TEST ACCURACY\n",
        "y_pred = []\n",
        "\n",
        "for row in X_test:\n",
        "  predicted_test = predict(model, row) # PREDICTION\n",
        "  y_pred.append(predicted_test)\n",
        "\n",
        "y_pred_array = np.array(y_pred)\n",
        "\n",
        "\n",
        "score = np.sum(y_pred_array == y_test)/len(y_pred_array)\n",
        "\n",
        "print(f'Train accuracy is {score*100} for {len(y_test)} samples')\n"
      ],
      "execution_count": 172,
      "outputs": [
        {
          "output_type": "stream",
          "text": [
            "Train accuracy is 76.62337662337663 for 231 samples\n"
          ],
          "name": "stdout"
        }
      ]
    },
    {
      "cell_type": "markdown",
      "metadata": {
        "id": "NqdbJ0c0q-1I"
      },
      "source": [
        "## Question 2 \n",
        "Write a program to solve the 4-Queens problem. \n",
        "In the 4 Queens problem the object is to place 4 queens on a chessboard in such a way that no queens can capture a piece. This means that no two queens may be placed on the same row, column, or diagonal.\n"
      ]
    },
    {
      "cell_type": "code",
      "metadata": {
        "id": "RtLXtj0mrCRI"
      },
      "source": [
        "\n",
        "# [ '_' , '_' , '_', '_'] \n",
        "# '_' == means space not filled.. \n",
        "\n",
        "# here the index is the row (which row right now working on) \n",
        "# and content is the column value.. of that particluar row\n",
        "# hence [1,0, 2, 3] means:\n",
        "#   _ Q _ _\n",
        "#   Q _ _ _\n",
        "#   _ _ Q _\n",
        "#   _ _ _ Q\n",
        "# '_' :== this is used for representation purpose..\n",
        " \n",
        "# here board is a list of 4 intgers\n",
        "# row is the current row which we are working on (int)\n",
        "# column is the column at which queen is placed.. (int)\n",
        "\n",
        "# function to check if its safe to place the queen .. \n",
        "# so queen can move vertical , horizontal and diagonal . hence we checking for if all 3 are ok\n",
        "\n",
        "\n",
        "def safePositionCheck(Board, row , column):\n",
        "  if row==0:\n",
        "    return True\n",
        "\n",
        "  # checking if if we have queen in the row which we are looking at\n",
        "  # which returns false and means 'its not safe' \n",
        "  for i in range(row):\n",
        "    if Board[i]==column:\n",
        "      return False\n",
        "  \n",
        "  # finding any two queens are on the same diagonal..\n",
        "  i=row\n",
        "  j=column\n",
        "  while i>=0 and j>=0:\n",
        "    if Board[i]==j:\n",
        "      return False\n",
        "    i=i-1\n",
        "    j=j-1\n",
        "  \n",
        "  # finding any two queens are on the other same diagonal.. \n",
        "  i=row\n",
        "  j=column\n",
        "  while i>=0 and j<4:\n",
        "    if Board[i]==j:\n",
        "      return False\n",
        "    i=i-1\n",
        "    j=j+1\n",
        "\n",
        "  # if all the satements are false means its safer to put a queen in the particular place..\n",
        "  # so returns true..\n",
        "  return True\n",
        "\n",
        "# [1, 3 ,0 , 2]\n",
        "\n",
        "def showResult(board):\n",
        "  # index is row number\n",
        "  # content is column number\n",
        "\n",
        "   # just to display the 4 queens in the final placement..\n",
        "  print('\\n solution : {}\\n'.format(board))\n",
        "  for i in range(len(board)):\n",
        "    \n",
        "    if(board[i]==0):\n",
        "      print('Q _ _ _ \\n')\n",
        "    if(board[i]==1):\n",
        "      print('_ Q _ _ \\n')\n",
        "    if(board[i]==2):\n",
        "      print('_ _ Q  _ \\n')\n",
        "    if(board[i]==3):\n",
        "      print('_ _ _ Q \\n')\n",
        "  \n",
        "\n",
        "# here stack is used along with recursion..\n",
        "\n",
        "# here it goes down all deep to find an answer\n",
        "def DFS(Board , n):\n",
        "  # print('check 1')\n",
        "  if n>=4:\n",
        "    # only when 4 columns are filled with correct values.. \n",
        "    # that is if 4 queens can be filled.. only print the result..\n",
        "    showResult(Board)\n",
        "    return\n",
        "  # print('check 2')\n",
        "  for i in range(4):\n",
        "    # print('check 3')\n",
        "    if safePositionCheck(Board, n, i):\n",
        "      Board[n] = i\n",
        "      print(Board)\n",
        "\n",
        "      DFS(Board, n+1) # recursion\n",
        "\n",
        "      Board[n] = '_'\n"
      ],
      "execution_count": 163,
      "outputs": []
    },
    {
      "cell_type": "code",
      "metadata": {
        "colab": {
          "base_uri": "https://localhost:8080/"
        },
        "id": "xp8-i4yYrkyI",
        "outputId": "df44ac7b-f1b7-4d09-dc19-2ab2dc81166b"
      },
      "source": [
        "# Depth First Search call to find the 4 Queens positions\n",
        "\n",
        "Board =['_', '_', '_', '_']\n",
        "\n",
        "print('4 Queens using Depth First Search (DFS) \\n ')\n",
        "DFS(Board,0)"
      ],
      "execution_count": 164,
      "outputs": [
        {
          "output_type": "stream",
          "text": [
            "4 Queens using Depth First Search (DFS) \n",
            " \n",
            "[0, '_', '_', '_']\n",
            "[0, 2, '_', '_']\n",
            "[0, 3, '_', '_']\n",
            "[0, 3, 1, '_']\n",
            "[1, '_', '_', '_']\n",
            "[1, 3, '_', '_']\n",
            "[1, 3, 0, '_']\n",
            "[1, 3, 0, 2]\n",
            "\n",
            " solution : [1, 3, 0, 2]\n",
            "\n",
            "_ Q _ _ \n",
            "\n",
            "_ _ _ Q \n",
            "\n",
            "Q _ _ _ \n",
            "\n",
            "_ _ Q  _ \n",
            "\n",
            "[2, '_', '_', '_']\n",
            "[2, 0, '_', '_']\n",
            "[2, 0, 3, '_']\n",
            "[2, 0, 3, 1]\n",
            "\n",
            " solution : [2, 0, 3, 1]\n",
            "\n",
            "_ _ Q  _ \n",
            "\n",
            "Q _ _ _ \n",
            "\n",
            "_ _ _ Q \n",
            "\n",
            "_ Q _ _ \n",
            "\n",
            "[3, '_', '_', '_']\n",
            "[3, 0, '_', '_']\n",
            "[3, 0, 2, '_']\n",
            "[3, 1, '_', '_']\n"
          ],
          "name": "stdout"
        }
      ]
    },
    {
      "cell_type": "code",
      "metadata": {
        "id": "ltQUWxw2sLSI"
      },
      "source": [
        ""
      ],
      "execution_count": null,
      "outputs": []
    }
  ]
}